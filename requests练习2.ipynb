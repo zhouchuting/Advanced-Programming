{
 "cells": [
  {
   "cell_type": "code",
   "execution_count": 1,
   "metadata": {},
   "outputs": [],
   "source": [
    "import requests"
   ]
  },
  {
   "cell_type": "code",
   "execution_count": 2,
   "metadata": {},
   "outputs": [],
   "source": [
    "r = requests.get(\"http://item.jd.com/5853575.html\")"
   ]
  },
  {
   "cell_type": "code",
   "execution_count": 3,
   "metadata": {},
   "outputs": [
    {
     "data": {
      "text/plain": [
       "200"
      ]
     },
     "execution_count": 3,
     "metadata": {},
     "output_type": "execute_result"
    }
   ],
   "source": [
    "r.status_code"
   ]
  },
  {
   "cell_type": "code",
   "execution_count": 4,
   "metadata": {},
   "outputs": [
    {
     "data": {
      "text/plain": [
       "'gbk'"
      ]
     },
     "execution_count": 4,
     "metadata": {},
     "output_type": "execute_result"
    }
   ],
   "source": [
    "r.encoding"
   ]
  },
  {
   "cell_type": "code",
   "execution_count": 7,
   "metadata": {},
   "outputs": [
    {
     "data": {
      "text/plain": [
       "'<!DOCTYPE HTML>\\n<html lang=\"zh-CN\">\\n<head>\\n    <!-- shouji -->\\n    <meta http-equiv=\"Content-Type\" content=\"text/html; charset=gbk\" />\\n    <title>【华为荣耀V10】荣耀 V10 高配版 6GB+64GB 沙滩金 移动联通电信4G全面屏游戏手机 双卡双待【行情 报价 价格 评测】-京东</title>\\n    <meta name=\"keywords\" content=\"HUAWEI荣耀V10,华为荣耀V10,华为荣耀V10报价,HUAWEI荣耀V10报价\"/>\\n    <meta name=\"description\" content=\"【华为荣耀V10】京东JD.COM提供华为荣耀V10正品行货，并包括HUAWEI荣耀V10网购指南，以及华为荣耀V10图片、荣耀V10参数、荣耀V10评论、荣耀V10心得、荣耀V10技巧等信息，网购华为荣耀V10上京东,放心又轻松\" />\\n    <meta name=\"format-detection\" content=\"telephone=no\">\\n    <meta http-equiv=\"mobile-agent\" content=\"format=xhtml; url=//item.m.jd.com/product/5853575.html\">\\n    <meta http-equiv=\"mobile-agent\" content=\"format=html5; url=//item.m.jd.com/product/5853575.html\">\\n    <meta http-equiv=\"X-UA-Compatible\" content=\"IE=Edge\">\\n    <link rel=\"canonical\" href=\"//item.jd.com/5853575.html\"/>\\n        <link rel=\"dns-prefetch\" href=\"//misc.360buyimg.com\"/>\\n    <link rel=\"dns-prefetch\" href=\"//static.360buyimg.com\"/>\\n    <link rel=\"dns-prefetch\" href=\"//img10.360buyimg.com\"/>\\n    <link rel=\"dns-prefetch\" href=\"//img11.360buyimg.com\"/>\\n    <link rel=\"dns-prefetch\" href=\"//img13.360buyimg.com\"/>\\n    <link rel=\"dns-prefetch\" href=\"//img12.360buyimg.com\"/>\\n    <link rel=\"dns-prefetch\" href=\"//img14.360buyimg.com\"/>\\n    <link rel=\"dns-prefetch\" href=\"//img30.360buyimg.com\"/>\\n    <link rel=\"dns-prefetch\" href=\"//pi.3.cn\"/>\\n    <link rel=\"dns-prefetch\" href=\"//ad.3.cn\"/>\\n    <link rel=\"dns-prefetch\" href=\"//dx.3.cn\"/>\\n    <link rel=\"dns-prefetch\" href=\"//c.3.cn\"/>\\n    <link rel=\"dns-prefetch\" href=\"//d.jd.com\"/>\\n    <link rel=\"dns-prefetch\" href=\"//x.jd.com\"/>\\n    <link rel=\"dns-prefetch\" href=\"//wl.jd.com\"/>\\n                        <link rel=\"stylesheet\" type=\"text/css\" href=\"//misc.360buyimg.com/??jdf/1.0.0/unit/ui-base/5.0.0/ui-base.css,jdf/1.0.0/unit/shortcut/5.0.0/shortcut.css,jdf/1.0.0/unit/myjd/2.0.0/myjd.css,jdf/1.0.0/unit/nav/5.0.0/nav.css,jdf/1.0.0/unit/global-footer/5.0.0/global-footer.css,jdf/1.0.0/unit/service/5.0.0/service.css\"> \\n\\n                        <style>[style*=\"2147483647\"] div[hui-mod] {display: none !important;}\\r\\n.j-attent-dialog-wrap{display: none;}\\r\\n.sh-brand-wrap-630128 {\\r\\nfont: 14px/1.5 \\'\\\\5fae\\\\8f6f\\\\96c5\\\\9ed1\\', Arial, sans-serif;\\r\\nheight: 110px;\\r\\noverflow:hidden;\\r\\nposition:relative;\\r\\n}\\r\\n.sh-brand-wrap-630128 img {\\r\\nvertical-align: middle;\\r\\n}\\r\\n.sh-brand-wrap-630128 .sh-brand {\\r\\nposition: relative;\\r\\nmargin: 0 auto;\\r\\nwidth: 990px;\\r\\noverflow:hidden;\\r\\n}\\r\\n.sh-brand-wrap-630128 .sh-hot-container {\\r\\n    position: absolute;\\r\\n    width: 1920px;\\r\\n    text-align: center;\\r\\n    left: 50%;\\r\\n    margin-left: -960px;\\r\\n    height: 110px;\\r\\n    overflow: hidden;\\r\\n}\\r\\n.sh-brand-wrap-630128 .sh-hot-container .sh-hot-content {\\r\\n    display: inline-block;\\r\\n    width: fit-content;\\r\\n    position: relative;\\r\\n}\\r\\n.sh-brand-wrap-630128 .sh-hot-container .hot-link{\\r\\n    display: \\'inline-block\\';\\r\\n    position:absolute;\\r\\n}\\r\\n.sh-brand-wrap-630128 .sh-brand .shop-name-box {\\r\\nposition: absolute;\\r\\ntop: 50%;\\r\\nmargin-top: -30px;\\r\\nheight: 60px;\\r\\nleft: 190px;\\r\\nvertical-align: top;\\r\\n}\\r\\n.sh-brand-wrap-630128 .sh-brand .shop-name-box .shop-name{\\r\\nfont-size: 18px;\\r\\ncolor: #333;\\r\\n}\\r\\n.sh-brand-wrap-630128 .sh-brand .shop-logo-box {\\r\\nposition: absolute;\\r\\ntop: 50%;\\r\\nmargin-top: -40px;\\r\\n}\\r\\n.sh-brand-wrap-630128 .sh-hot-wrap img {\\r\\nwidth: 180px;\\r\\nheight: 60px;\\r\\n}\\r\\n.sh-brand-wrap-630128 .sh-brand .hot-link {\\r\\ndisplay: \\'inline-block\\';\\r\\nposition:absolute;\\r\\n}\\r\\n.sh-brand-wrap-630128 .sh-brand .coupons {\\r\\nposition: absolute;\\r\\nright: 0;\\r\\ntop: 50%;\\r\\nmargin-top: -28px;\\r\\n}\\r\\n.sh-brand-wrap-630128 .sh-brand .coupons .coupon {\\r\\nfloat: left;\\r\\nmargin-left: 10px;\\r\\n}\\r\\n.sh-brand-wrap-630128 .sh-brand .follow-me {\\r\\ndisplay: inline-block;\\r\\n*display: inline;\\r\\n*zoom: 1;\\r\\npadding-left: 24px;\\r\\nwidth: 47px;\\r\\nheight: 23px;\\r\\nline-height: 23px;\\r\\ncolor: #000;\\r\\nfont-size: 12px;\\r\\nbackground: url(data:image/png;base64,iVBORw0KGgoAAAANSUhEUgAAAEcAAABZCAMAAABbssnGAAAA/1BMVEUAAAD///////+xGRqxGRqxGRr////uub2xGRr////uub2xGRr///+xGRr////////uub3uub3uub3///'"
      ]
     },
     "execution_count": 7,
     "metadata": {},
     "output_type": "execute_result"
    }
   ],
   "source": [
    "r.text[:4000]"
   ]
  },
  {
   "cell_type": "code",
   "execution_count": 9,
   "metadata": {},
   "outputs": [
    {
     "data": {
      "text/plain": [
       "{'User-Agent': 'python-requests/2.13.0', 'Accept-Encoding': 'gzip, deflate', 'Accept': '*/*', 'Connection': 'keep-alive'}"
      ]
     },
     "execution_count": 9,
     "metadata": {},
     "output_type": "execute_result"
    }
   ],
   "source": [
    "r.request.headers"
   ]
  },
  {
   "cell_type": "code",
   "execution_count": 11,
   "metadata": {},
   "outputs": [],
   "source": [
    "url=\"http://item.jd.com/5853575.html\"\n",
    "kv = {'user-agent':'Mozilla/5.0'}\n",
    "r=requests.get(url,headers=kv)"
   ]
  },
  {
   "cell_type": "code",
   "execution_count": 12,
   "metadata": {},
   "outputs": [
    {
     "data": {
      "text/plain": [
       "{'user-agent': 'Mozilla/5.0', 'Accept-Encoding': 'gzip, deflate', 'Accept': '*/*', 'Connection': 'keep-alive'}"
      ]
     },
     "execution_count": 12,
     "metadata": {},
     "output_type": "execute_result"
    }
   ],
   "source": [
    "r.request.headers"
   ]
  },
  {
   "cell_type": "code",
   "execution_count": 15,
   "metadata": {},
   "outputs": [
    {
     "data": {
      "text/plain": [
       "200"
      ]
     },
     "execution_count": 15,
     "metadata": {},
     "output_type": "execute_result"
    }
   ],
   "source": [
    "#store pics\n",
    "url=\"http://img0.dili360.com/pic/2018/08/07/5b693da9884e73472011160_t.jpg@!rw9\"\n",
    "r=requests.get(url)\n",
    "r.status_code"
   ]
  },
  {
   "cell_type": "code",
   "execution_count": 16,
   "metadata": {},
   "outputs": [],
   "source": [
    "with open('test.jpg','wb') as f:\n",
    "    f.write(r.content)"
   ]
  },
  {
   "cell_type": "code",
   "execution_count": 17,
   "metadata": {},
   "outputs": [],
   "source": [
    "f.close()"
   ]
  },
  {
   "cell_type": "code",
   "execution_count": 22,
   "metadata": {},
   "outputs": [],
   "source": [
    "import requests\n",
    "import os\n",
    "url =\"http://pic.guoxuedashi.com/zi/8B6A.gif\"\n",
    "root=\"/Users/pepper/pic/\"\n",
    "path=root+url.split('/')[-1]\n",
    "r=requests.get(url)\n",
    "with open(path,'wb') as f:\n",
    "    f.write(r.content)\n",
    "    f.close()\n"
   ]
  },
  {
   "cell_type": "code",
   "execution_count": null,
   "metadata": {},
   "outputs": [],
   "source": []
  },
  {
   "cell_type": "code",
   "execution_count": null,
   "metadata": {},
   "outputs": [],
   "source": []
  },
  {
   "cell_type": "code",
   "execution_count": null,
   "metadata": {},
   "outputs": [],
   "source": []
  },
  {
   "cell_type": "code",
   "execution_count": null,
   "metadata": {},
   "outputs": [],
   "source": []
  },
  {
   "cell_type": "code",
   "execution_count": null,
   "metadata": {},
   "outputs": [],
   "source": []
  },
  {
   "cell_type": "code",
   "execution_count": null,
   "metadata": {},
   "outputs": [],
   "source": []
  },
  {
   "cell_type": "code",
   "execution_count": null,
   "metadata": {},
   "outputs": [],
   "source": []
  },
  {
   "cell_type": "code",
   "execution_count": null,
   "metadata": {},
   "outputs": [],
   "source": []
  },
  {
   "cell_type": "code",
   "execution_count": null,
   "metadata": {},
   "outputs": [],
   "source": []
  },
  {
   "cell_type": "code",
   "execution_count": null,
   "metadata": {},
   "outputs": [],
   "source": []
  },
  {
   "cell_type": "code",
   "execution_count": null,
   "metadata": {},
   "outputs": [],
   "source": []
  }
 ],
 "metadata": {
  "kernelspec": {
   "display_name": "Python 3",
   "language": "python",
   "name": "python3"
  },
  "language_info": {
   "codemirror_mode": {
    "name": "ipython",
    "version": 3
   },
   "file_extension": ".py",
   "mimetype": "text/x-python",
   "name": "python",
   "nbconvert_exporter": "python",
   "pygments_lexer": "ipython3",
   "version": "3.6.0"
  }
 },
 "nbformat": 4,
 "nbformat_minor": 2
}
