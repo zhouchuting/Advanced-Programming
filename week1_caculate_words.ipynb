{
 "cells": [
  {
   "cell_type": "code",
   "execution_count": null,
   "metadata": {
    "collapsed": false
   },
   "outputs": [],
   "source": []
  },
  {
   "cell_type": "code",
   "execution_count": 19,
   "metadata": {
    "collapsed": false
   },
   "outputs": [
    {
     "name": "stdout",
     "output_type": "stream",
     "text": [
      "以下是出现次数前十位的单词：\n",
      "the              131\n",
      "a                 56\n",
      "of                50\n",
      "to                45\n",
      "in                44\n",
      "and               29\n",
      "on                21\n",
      "that              20\n",
      "for               19\n",
      "has               19\n",
      "\n",
      "以下是出现次数后十位的单词\n",
      "fund               1\n",
      "international      1\n",
      "service            1\n",
      "goods              1\n",
      "rollout            1\n",
      "year’s             1\n",
      "related            1\n",
      "disruption         1\n",
      "undertaken         1\n",
      "impact             1\n"
     ]
    }
   ],
   "source": [
    "def getText():  \n",
    "    txt=open('/Users/pepper/Desktop/大三上/advanced_programming/corpara/all.txt','r').read()  \n",
    "    txt=txt.lower()  \n",
    "    for ch in \"~@#$%^&*()_-+=<>?/,.:;{}[]|\\'\"\"1234567890\":  \n",
    "        txt=txt.replace(ch,' ')  \n",
    "    return txt  \n",
    "\n",
    "Txt=getText()  \n",
    "words=Txt.split()  \n",
    "counts={}  \n",
    "sumcount = 0\n",
    "for word in words:  \n",
    "    counts[word]=counts.get(word,0)+1\n",
    "    sumcount = sumcount + 1\n",
    "items=list(counts.items())  \n",
    "items.sort(key=lambda x:x[1],reverse=True)  \n",
    "print(\"以下是出现次数前十位的单词：\")\n",
    "for i in range(10):  \n",
    "    word,count=items[i]  \n",
    "    print('{0:<15}{1:>5}'.format(word,count))  \n",
    "items.reverse()\n",
    "print()\n",
    "print(\"以下是出现次数后十位的单词\")\n",
    "for i in range(10):  \n",
    "    word,count=items[i]  \n",
    "    print('{0:<15}{1:>5}'.format(word,count))  \n"
   ]
  },
  {
   "cell_type": "code",
   "execution_count": null,
   "metadata": {
    "collapsed": true
   },
   "outputs": [],
   "source": []
  }
 ],
 "metadata": {
  "kernelspec": {
   "display_name": "Python 3",
   "language": "python",
   "name": "python3"
  },
  "language_info": {
   "codemirror_mode": {
    "name": "ipython",
    "version": 3
   },
   "file_extension": ".py",
   "mimetype": "text/x-python",
   "name": "python",
   "nbconvert_exporter": "python",
   "pygments_lexer": "ipython3",
   "version": "3.6.0"
  }
 },
 "nbformat": 4,
 "nbformat_minor": 2
}
